{
 "cells": [
  {
   "cell_type": "code",
   "execution_count": 1,
   "id": "c03abe06-2f4c-433d-8fa3-816e841fa323",
   "metadata": {},
   "outputs": [],
   "source": [
    "import struct\n",
    "import numpy as np\n",
    "import matplotlib.pyplot as plt\n",
    "\n",
    "import torch\n",
    "import torch.nn as nn\n",
    "from torch.utils.data import Dataset,DataLoader\n",
    "\n",
    "from tqdm.notebook import tqdm"
   ]
  },
  {
   "cell_type": "markdown",
   "id": "0d61020b-25ff-4a0c-a02e-077487bf1523",
   "metadata": {},
   "source": [
    "# Pytorch Dataset for MNIST"
   ]
  },
  {
   "cell_type": "code",
   "execution_count": 2,
   "id": "98134cfc-ad18-42ac-a2e2-7c7c1c2acd45",
   "metadata": {},
   "outputs": [],
   "source": [
    "class Mnist(Dataset):\n",
    "    def __init__(self, img_gzip, label_gzip, base_dir):\n",
    "        self.img_gzip_path = base_dir + img_gzip\n",
    "        self.label_gzip_path = base_dir + label_gzip\n",
    "        self.imgs, self.labels = None, None\n",
    "        self.load()\n",
    "        \n",
    "    def load(self):\n",
    "        with open(self.img_gzip_path,'rb') as f:\n",
    "            magic, size = struct.unpack(\">II\", f.read(8))\n",
    "            nrows, ncols = struct.unpack(\">II\", f.read(8))\n",
    "            self.imgs = np.frombuffer(f.read(), dtype=np.dtype(np.uint8).newbyteorder('>'))\\\n",
    "                     .reshape((size, nrows, ncols, 1))\n",
    "            self.imgs = np.transpose(self.imgs, (0,3,1,2))\n",
    "\n",
    "        with open(self.label_gzip_path,'rb') as f:\n",
    "            magic, size = struct.unpack('>II', f.read(8))\n",
    "            self.labels = np.frombuffer(f.read(), dtype=np.dtype(np.uint8).newbyteorder('>'))\n",
    "\n",
    "    def __len__(self):\n",
    "        return self.imgs.shape[0]\n",
    "\n",
    "    def __getitem__(self, idx):\n",
    "        img = torch.tensor(self.imgs[idx], dtype=torch.float32)/255.0\n",
    "        label = torch.tensor(self.labels[idx])\n",
    "        return img, label"
   ]
  },
  {
   "cell_type": "code",
   "execution_count": 3,
   "id": "47eee225-986f-430f-b0a4-ae82e66dc429",
   "metadata": {},
   "outputs": [],
   "source": [
    "base_dir = 'data/mnist/'\n",
    "\n",
    "img_gzip = \"train-images.idx3-ubyte\"\n",
    "label_gzip = \"train-labels.idx1-ubyte\"\n",
    "\n",
    "test_img_gzip = \"t10k-images.idx3-ubyte\"\n",
    "test_label_gzip = \"t10k-labels.idx1-ubyte\""
   ]
  },
  {
   "cell_type": "code",
   "execution_count": 4,
   "id": "5dd2bbcf-3506-4098-830b-bf39a3e5272a",
   "metadata": {},
   "outputs": [],
   "source": [
    "dataset = Mnist(img_gzip = img_gzip,\n",
    "                label_gzip = label_gzip,\n",
    "                base_dir = base_dir)\n",
    "\n",
    "test_dataset = Mnist(img_gzip = test_img_gzip,\n",
    "                label_gzip = test_label_gzip,\n",
    "                base_dir = base_dir)"
   ]
  },
  {
   "cell_type": "code",
   "execution_count": 5,
   "id": "ba59bd78-913e-4abf-9f60-5a285c85bcca",
   "metadata": {},
   "outputs": [],
   "source": [
    "batch_size = 32\n",
    "dataloader = DataLoader(dataset, batch_size = batch_size, shuffle=True)\n",
    "test_dataloader = DataLoader(dataset, batch_size = batch_size, shuffle=False)"
   ]
  },
  {
   "cell_type": "code",
   "execution_count": 6,
   "id": "13f81ba7-f072-4601-bbc9-8fc98cdb41cd",
   "metadata": {},
   "outputs": [],
   "source": [
    "def plot_img(img):\n",
    "    plt.figure(figsize=(3,3))\n",
    "    plt.imshow(img)"
   ]
  },
  {
   "cell_type": "code",
   "execution_count": 7,
   "id": "4c5747c8-1ed3-447b-86c7-8222e1c4d882",
   "metadata": {},
   "outputs": [],
   "source": [
    "img, label = next(iter(dataloader))"
   ]
  },
  {
   "cell_type": "markdown",
   "id": "aa406cd4-1e31-4506-8650-5375e7806ba4",
   "metadata": {},
   "source": [
    "## How to create the patches?"
   ]
  },
  {
   "cell_type": "markdown",
   "id": "287eec46-7b6e-4a0e-88aa-8c8b9fa16cc9",
   "metadata": {},
   "source": [
    "The input to the transformer encoder is the embedded transformation of a patch. We achieve this in one go by using a convolution layer with the kernel size as the size of the patch and the stride as well as the size of the patch.  "
   ]
  },
  {
   "cell_type": "code",
   "execution_count": 8,
   "id": "e5e24fe1-194f-4c9f-b4d3-e0a2761ec567",
   "metadata": {},
   "outputs": [
    {
     "name": "stdout",
     "output_type": "stream",
     "text": [
      "Number of patches along 1 dim:  7\n"
     ]
    }
   ],
   "source": [
    "patch_size = 4\n",
    "num_patches = img.shape[-1]//patch_size\n",
    "print(\"Number of patches along 1 dim: \", num_patches)"
   ]
  },
  {
   "cell_type": "code",
   "execution_count": 9,
   "id": "21a30584-c0b1-4ee5-a17d-ed1ce3a85a58",
   "metadata": {},
   "outputs": [],
   "source": [
    "embedding_dim = 16"
   ]
  },
  {
   "cell_type": "code",
   "execution_count": 10,
   "id": "fc1f38f8-8223-461d-a087-899b4ce13466",
   "metadata": {},
   "outputs": [],
   "source": [
    "break_patches = nn.Conv2d(in_channels = 1, \n",
    "                          out_channels = embedding_dim, \n",
    "                          kernel_size = patch_size, \n",
    "                          stride = patch_size)"
   ]
  },
  {
   "cell_type": "markdown",
   "id": "df527ecf-305c-47d3-a186-19b0b29cb00c",
   "metadata": {},
   "source": [
    "The above convolution is a pretty interesing way to break into patches and apply embedding : \n",
    "* It applies a kernel mapping to each element of the image on which the kernel overlaps which is basically an element wise summation after multiplying with the kernel weights.\n",
    "* The number of output channel corresponds to the embedding dim. So we have \"embedding-dim\" number of filters. Focus on the first patch that is the first time a kernel is applied on the top-left corner. The output of that is a scalar value. For a particualr kernel, we will be transforming along each of the patch resulting in a [num_patch $\\times$ num_patch]. We will have this for each of the filters i.e. \"embedding-dim\" number resulting in the shape [ embedding_dim $\\times$ num_patch $\\times$ num_patch]. We flatten the last two dimension i.e. flattening along the patches for each each kernel.\n",
    "* The last two dimension is now transposed. For each of the patch, we have a value corresponding to each of the kernel resulting in [embedding_dim] number of \"dimensions\""
   ]
  },
  {
   "cell_type": "code",
   "execution_count": 11,
   "id": "0e49bd4a-c872-4280-9a32-7cfc0f2ad2d8",
   "metadata": {},
   "outputs": [
    {
     "name": "stdout",
     "output_type": "stream",
     "text": [
      "Shape after Convolution :  torch.Size([32, 16, 7, 7])\n",
      "Shape after Flattening :  torch.Size([32, 16, 49])\n",
      "Shape after Flattening :  torch.Size([32, 49, 16])\n"
     ]
    }
   ],
   "source": [
    "patch_embedding = break_patches(img)\n",
    "print(\"Shape after Convolution : \" , patch_embedding.shape)\n",
    "print(\"Shape after Flattening : \" , patch_embedding.flatten(start_dim = -2).shape)\n",
    "print(\"Shape after Flattening : \" , torch.transpose(patch_embedding.flatten(start_dim = -2), -1,-2).shape)"
   ]
  },
  {
   "cell_type": "code",
   "execution_count": 12,
   "id": "4a9960ec-537c-4667-b78b-a50271c51b47",
   "metadata": {},
   "outputs": [],
   "source": [
    "class PatchEmbedding(nn.Module):\n",
    "    def __init__(self, input_channel, patch_size, embedding_dim, \n",
    "                       num_patch, batch_size):\n",
    "        super().__init__()\n",
    "        self.patch_layer = nn.Conv2d(input_channel, embedding_dim, \n",
    "                                     kernel_size = patch_size, \n",
    "                                     stride = patch_size)\n",
    "        \n",
    "        # The class token is inherently the embedding of the image that goes into the final MLP layer\n",
    "        self.class_token = nn.Parameter(torch.randn(batch_size, embedding_dim, 1))\n",
    "        \n",
    "        # Position embedding is applied to capture the relative position of the patches in the image\n",
    "        self.positional_embedding = nn.Parameter(torch.randn(embedding_dim, num_patch + 1))\n",
    "\n",
    "    def forward(self, x):\n",
    "        x = self.patch_layer(x) # batch_size x embedding_dim x height x width\n",
    "        x = x.flatten(start_dim = -2) # batch_size x embedding_dim x (height x width)\n",
    "        x = torch.cat([self.class_token, x], dim = -1) # batch_size x embedding_dim x (height x width + 1)\n",
    "        x  = x + self.positional_embedding\n",
    "        x = torch.transpose(x, -2, -1) #batch_size x (height x width + 1)x embedding_dim\n",
    "        return x"
   ]
  },
  {
   "cell_type": "code",
   "execution_count": 13,
   "id": "9216d3b0-d47e-4161-bf97-b327ad7f10e0",
   "metadata": {},
   "outputs": [],
   "source": [
    "class TransformerEncoder(nn.Module):\n",
    "    def __init__(self, embedding_dim, projection_dim, num_heads = 1):\n",
    "        \"\"\"\n",
    "        This forms the core of the Transformer encoder. Using the nn.MultiheadAttention really simplifies\n",
    "        the actual implementation of the attention. \n",
    "\n",
    "        The transformer encoder stack comprises of the attention part followed by the MLP or a linear layers\n",
    "        with a GeLU activation. \n",
    "\n",
    "        The transformer stack is usually increased on top of each other\n",
    "        \"\"\"\n",
    "        super().__init__()\n",
    "        # Normalizing layer that normalizes along the last dimension\n",
    "        self.layer_norm = nn.LayerNorm(normalized_shape = embedding_dim)\n",
    "        \n",
    "        # Pytorch MultiheadAttention really simplifies the actual coding of attention part\n",
    "        self.self_attention = nn.MultiheadAttention(embedding_dim, num_heads, batch_first = True)\n",
    "\n",
    "        # A linear transformation is also applied \n",
    "        self.mlp_block = nn.Sequential(*[\n",
    "            nn.Linear(embedding_dim, projection_dim), \n",
    "            nn.GELU(), \n",
    "            nn.Linear(projection_dim, embedding_dim),\n",
    "        ])\n",
    "\n",
    "    def forward(self, x):\n",
    "        x = self.layer_norm(x)\n",
    "        x = self.self_attention(x,x,x)[0] + x\n",
    "        x = self.mlp_block(x) + x\n",
    "        \n",
    "        return x"
   ]
  },
  {
   "cell_type": "code",
   "execution_count": 14,
   "id": "19e39208-4db9-48fa-8914-17cfcbb0e730",
   "metadata": {},
   "outputs": [],
   "source": [
    "class Model(nn.Module):\n",
    "    def __init__(self, patch_size, \n",
    "                 output_dim, NUM_PATCH, BATCH_SIZE,\n",
    "                 L = 2, input_channel = 1, \n",
    "                 embedding_dim = 16, projection_dim = 16, num_heads = 2):\n",
    "        \"\"\"\n",
    "        Forms the entire Visual Transformer model. \n",
    "        \"\"\"\n",
    "        super().__init__()\n",
    "        self.patch_embedding = PatchEmbedding(input_channel, \n",
    "                                              patch_size, embedding_dim, \n",
    "                                              NUM_PATCH, BATCH_SIZE)\n",
    "\n",
    "        # Mutliple layers of the transformer encoder is stacked on top of another.\n",
    "        self.transformer_encoder = nn.Sequential(*[TransformerEncoder(embedding_dim, projection_dim = embedding_dim) for _ in range(L)])\n",
    "\n",
    "        # The last layer takes the class token and gives the probability over the classes\n",
    "        self.output_layer = nn.Linear(embedding_dim, output_dim)\n",
    "\n",
    "    def forward(self, x):\n",
    "        x = self.patch_embedding(x)\n",
    "        x = self.transformer_encoder(x)            \n",
    "        x = x[:, 0, :] # Extracting the class token\n",
    "        x = self.output_layer(x)\n",
    "        return x"
   ]
  },
  {
   "cell_type": "code",
   "execution_count": 15,
   "id": "aad927b5-a2bb-45f7-a5fb-229146e615db",
   "metadata": {},
   "outputs": [],
   "source": [
    "device = torch.device('mps')"
   ]
  },
  {
   "cell_type": "code",
   "execution_count": 16,
   "id": "ef3a58af-931d-4da6-a9f7-0f8a4050cbf6",
   "metadata": {},
   "outputs": [],
   "source": [
    "NUM_PATCH = (img.size(-1) // patch_size) ** 2\n",
    "BATCH_SIZE = batch_size"
   ]
  },
  {
   "cell_type": "code",
   "execution_count": 17,
   "id": "201fd52e-ca6a-40e7-8427-51d83c6f723f",
   "metadata": {},
   "outputs": [],
   "source": [
    "model = Model(patch_size = patch_size, output_dim = 10, L=4,\n",
    "              NUM_PATCH = NUM_PATCH, BATCH_SIZE = BATCH_SIZE).to(device)"
   ]
  },
  {
   "cell_type": "code",
   "execution_count": 18,
   "id": "36b65e99-058d-42fa-99c0-6653264cb363",
   "metadata": {},
   "outputs": [],
   "source": [
    "loss_fn = nn.CrossEntropyLoss()\n",
    "optimizer = torch.optim.Adam(model.parameters())"
   ]
  },
  {
   "cell_type": "code",
   "execution_count": 19,
   "id": "b4594c3f-2a52-4c46-966a-a210b1accce8",
   "metadata": {},
   "outputs": [],
   "source": [
    "def evaluate(model, dataloader):\n",
    "    model.eval()\n",
    "    loss_ = []\n",
    "    acc = 0\n",
    "    for idx, (x_batch, y_batch) in enumerate(dataloader):\n",
    "        x_batch, y_batch = x_batch.to(device), y_batch.to(device)\n",
    "        output = model(x_batch)\n",
    "        loss = loss_fn(output, y_batch)\n",
    "\n",
    "        output = torch.argmax(output, dim =  -1)\n",
    "        output = (output == y_batch).sum()\n",
    "        acc += output.item() / x_batch.size(0)\n",
    "        loss_.append(loss.item())\n",
    "    \n",
    "    acc = acc / len(dataloader)\n",
    "    loss_ = np.mean(loss_)\n",
    "    return loss_, acc"
   ]
  },
  {
   "cell_type": "code",
   "execution_count": 20,
   "id": "ee641e3d-dec6-4cf4-a806-b58f51114647",
   "metadata": {},
   "outputs": [
    {
     "data": {
      "application/vnd.jupyter.widget-view+json": {
       "model_id": "b9d6a0436b5c48d484857600f41b1b56",
       "version_major": 2,
       "version_minor": 0
      },
      "text/plain": [
       "  0%|          | 0/20 [00:00<?, ?it/s]"
      ]
     },
     "metadata": {},
     "output_type": "display_data"
    },
    {
     "name": "stdout",
     "output_type": "stream",
     "text": [
      "[1] Loss : 1.1220 Acc :  0.60     Test Loss :  0.4636 Test Acc :  0.86\n",
      "[2] Loss : 0.3892 Acc :  0.88     Test Loss :  0.3253 Test Acc :  0.90\n",
      "[3] Loss : 0.2948 Acc :  0.91     Test Loss :  0.2987 Test Acc :  0.91\n",
      "[4] Loss : 0.2501 Acc :  0.92     Test Loss :  0.2471 Test Acc :  0.92\n",
      "[5] Loss : 0.2238 Acc :  0.93     Test Loss :  0.2189 Test Acc :  0.93\n",
      "[6] Loss : 0.2050 Acc :  0.94     Test Loss :  0.1950 Test Acc :  0.94\n",
      "[7] Loss : 0.1928 Acc :  0.94     Test Loss :  0.1733 Test Acc :  0.95\n",
      "[8] Loss : 0.1801 Acc :  0.94     Test Loss :  0.1737 Test Acc :  0.95\n",
      "[9] Loss : 0.1694 Acc :  0.95     Test Loss :  0.1475 Test Acc :  0.95\n",
      "[10] Loss : 0.1628 Acc :  0.95     Test Loss :  0.1605 Test Acc :  0.95\n",
      "[11] Loss : 0.1556 Acc :  0.95     Test Loss :  0.1459 Test Acc :  0.95\n",
      "[12] Loss : 0.1495 Acc :  0.95     Test Loss :  0.1282 Test Acc :  0.96\n",
      "[13] Loss : 0.1445 Acc :  0.95     Test Loss :  0.1650 Test Acc :  0.95\n",
      "[14] Loss : 0.1405 Acc :  0.96     Test Loss :  0.1647 Test Acc :  0.95\n",
      "[15] Loss : 0.1364 Acc :  0.96     Test Loss :  0.1099 Test Acc :  0.97\n",
      "[16] Loss : 0.1315 Acc :  0.96     Test Loss :  0.1246 Test Acc :  0.96\n",
      "[17] Loss : 0.1289 Acc :  0.96     Test Loss :  0.1114 Test Acc :  0.96\n",
      "[18] Loss : 0.1263 Acc :  0.96     Test Loss :  0.1108 Test Acc :  0.96\n",
      "[19] Loss : 0.1223 Acc :  0.96     Test Loss :  0.1064 Test Acc :  0.97\n",
      "[20] Loss : 0.1187 Acc :  0.96     Test Loss :  0.1096 Test Acc :  0.96\n"
     ]
    }
   ],
   "source": [
    "epochs = 20\n",
    "history = {'loss':[]}\n",
    "for epoch in tqdm(range(epochs)):\n",
    "    acc, loss_ = 0, []\n",
    "    model.train()\n",
    "    for idx, (x_batch, y_batch) in enumerate(dataloader):\n",
    "        x_batch, y_batch = x_batch.to(device), y_batch.to(device)\n",
    "        output = model(x_batch)\n",
    "        loss = loss_fn(output, y_batch)\n",
    "        \n",
    "        acc += (torch.argmax(output, dim = -1) == y_batch).sum() / x_batch.size(0)\n",
    "    \n",
    "        optimizer.zero_grad()\n",
    "        loss.backward()\n",
    "        optimizer.step()\n",
    "        loss_.append(loss.item())\n",
    "\n",
    "    acc = acc / len(dataloader)\n",
    "    loss_ = np.mean(loss_)\n",
    "    history['loss'].append(loss_)\n",
    "    \n",
    "    test_loss, test_acc = evaluate(model, test_dataloader)\n",
    "    print(f\"[{epoch+1}] Loss : {loss_:.4f} Acc : {acc : .2f} \\\n",
    "    Test Loss : {test_loss: .4f} Test Acc : {test_acc : .2f}\")"
   ]
  },
  {
   "cell_type": "code",
   "execution_count": 21,
   "id": "91588202-169d-4c69-ac18-9afa1ddb9c5b",
   "metadata": {},
   "outputs": [
    {
     "data": {
      "image/png": "[encoded data removed]",
      "text/plain": [
       "<Figure size 1000x300 with 1 Axes>"
      ]
     },
     "metadata": {},
     "output_type": "display_data"
    }
   ],
   "source": [
    "plt.figure(figsize=(10,3))\n",
    "plt.plot(history['loss'])\n",
    "_ = plt.gca().set(title='Loss', xlabel='Epochs', ylabel='Epoch Loss')"
   ]
  },
  {
   "cell_type": "code",
   "execution_count": null,
   "id": "1fbc4c96-ee8c-46c9-adae-d66687a9cebe",
   "metadata": {},
   "outputs": [],
   "source": []
  }
 ],
 "metadata": {
  "kernelspec": {
   "display_name": "Python 3 (ipykernel)",
   "language": "python",
   "name": "python3"
  },
  "language_info": {
   "codemirror_mode": {
    "name": "ipython",
    "version": 3
   },
   "file_extension": ".py",
   "mimetype": "text/x-python",
   "name": "python",
   "nbconvert_exporter": "python",
   "pygments_lexer": "ipython3",
   "version": "3.11.6"
  }
 },
 "nbformat": 4,
 "nbformat_minor": 5
}
